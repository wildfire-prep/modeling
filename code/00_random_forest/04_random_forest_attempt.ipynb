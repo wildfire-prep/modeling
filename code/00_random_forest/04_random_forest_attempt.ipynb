{
 "cells": [
  {
   "cell_type": "code",
   "execution_count": 1,
   "metadata": {},
   "outputs": [],
   "source": [
    "import os\n",
    "import sys\n",
    "import pandas as pd\n",
    "import geopandas as gpd\n",
    "import numpy as np\n",
    "\n",
    "from sklearn.ensemble import RandomForestClassifier\n",
    "from sklearn.metrics import (\n",
    "    accuracy_score,\n",
    "    confusion_matrix,\n",
    "    precision_score,\n",
    "    recall_score,\n",
    "    precision_recall_curve,\n",
    "    ConfusionMatrixDisplay,\n",
    "    roc_curve,\n",
    "    RocCurveDisplay,\n",
    "    auc,\n",
    "    classification_report,\n",
    "    confusion_matrix,\n",
    "    roc_auc_score,\n",
    "    roc_curve,\n",
    ")\n",
    "from sklearn.model_selection import RandomizedSearchCV, train_test_split\n",
    "from scipy.stats import randint\n",
    "from sklearn.preprocessing import LabelEncoder\n",
    "from sklearn.utils import resample\n",
    "\n",
    "from sklearn.tree import export_graphviz\n",
    "from IPython.display import Image\n",
    "import graphviz\n",
    "\n",
    "sys.path.append(\"../utils\")\n",
    "\n"
   ]
  },
  {
   "cell_type": "code",
   "execution_count": 2,
   "metadata": {},
   "outputs": [],
   "source": [
    "data = pd.read_csv(\"/capstone/wildfire_prep/data/PUZZLE_PIECES/assembled_puzzle.csv\")"
   ]
  },
  {
   "cell_type": "code",
   "execution_count": 3,
   "metadata": {},
   "outputs": [
    {
     "data": {
      "text/plain": [
       "Index(['inspection_id', 'X_0', 'X_1', 'X_2', 'X_3', 'X_4', 'X_5', 'X_6', 'X_7',\n",
       "       'X_8',\n",
       "       ...\n",
       "       'X_3995', 'X_3996', 'X_3997', 'X_3998', 'X_3999', 'basemap_id',\n",
       "       'maj_landcover_code_x', 'maj_landcover_code_y', 'status',\n",
       "       'structure_code'],\n",
       "      dtype='object', length=4006)"
      ]
     },
     "execution_count": 3,
     "metadata": {},
     "output_type": "execute_result"
    }
   ],
   "source": [
    "data.columns"
   ]
  },
  {
   "cell_type": "code",
   "execution_count": 4,
   "metadata": {},
   "outputs": [],
   "source": [
    "# drop basemap_id \n",
    "\n",
    "data = data.drop(columns = 'basemap_id')"
   ]
  },
  {
   "cell_type": "code",
   "execution_count": 5,
   "metadata": {},
   "outputs": [
    {
     "name": "stdout",
     "output_type": "stream",
     "text": [
      "(67580, 4005)\n"
     ]
    },
    {
     "data": {
      "text/html": [
       "<div>\n",
       "<style scoped>\n",
       "    .dataframe tbody tr th:only-of-type {\n",
       "        vertical-align: middle;\n",
       "    }\n",
       "\n",
       "    .dataframe tbody tr th {\n",
       "        vertical-align: top;\n",
       "    }\n",
       "\n",
       "    .dataframe thead th {\n",
       "        text-align: right;\n",
       "    }\n",
       "</style>\n",
       "<table border=\"1\" class=\"dataframe\">\n",
       "  <thead>\n",
       "    <tr style=\"text-align: right;\">\n",
       "      <th></th>\n",
       "      <th>inspection_id</th>\n",
       "      <th>X_0</th>\n",
       "      <th>X_1</th>\n",
       "      <th>X_2</th>\n",
       "      <th>X_3</th>\n",
       "      <th>X_4</th>\n",
       "      <th>X_5</th>\n",
       "      <th>X_6</th>\n",
       "      <th>X_7</th>\n",
       "      <th>X_8</th>\n",
       "      <th>...</th>\n",
       "      <th>X_3994</th>\n",
       "      <th>X_3995</th>\n",
       "      <th>X_3996</th>\n",
       "      <th>X_3997</th>\n",
       "      <th>X_3998</th>\n",
       "      <th>X_3999</th>\n",
       "      <th>maj_landcover_code_x</th>\n",
       "      <th>maj_landcover_code_y</th>\n",
       "      <th>status</th>\n",
       "      <th>structure_code</th>\n",
       "    </tr>\n",
       "  </thead>\n",
       "  <tbody>\n",
       "    <tr>\n",
       "      <th>0</th>\n",
       "      <td>1</td>\n",
       "      <td>0.054892</td>\n",
       "      <td>0.0</td>\n",
       "      <td>0.015004</td>\n",
       "      <td>0.0</td>\n",
       "      <td>0.238797</td>\n",
       "      <td>0.000466</td>\n",
       "      <td>0.0</td>\n",
       "      <td>0.055266</td>\n",
       "      <td>0.005605</td>\n",
       "      <td>...</td>\n",
       "      <td>0.052267</td>\n",
       "      <td>2.742807</td>\n",
       "      <td>1.274291</td>\n",
       "      <td>1.905394</td>\n",
       "      <td>4.261047</td>\n",
       "      <td>2.500061</td>\n",
       "      <td>304.0</td>\n",
       "      <td>557</td>\n",
       "      <td>0</td>\n",
       "      <td>100</td>\n",
       "    </tr>\n",
       "    <tr>\n",
       "      <th>1</th>\n",
       "      <td>2</td>\n",
       "      <td>0.024470</td>\n",
       "      <td>0.0</td>\n",
       "      <td>0.003108</td>\n",
       "      <td>0.0</td>\n",
       "      <td>0.129467</td>\n",
       "      <td>0.000687</td>\n",
       "      <td>0.0</td>\n",
       "      <td>0.034108</td>\n",
       "      <td>0.012225</td>\n",
       "      <td>...</td>\n",
       "      <td>0.232065</td>\n",
       "      <td>2.272318</td>\n",
       "      <td>1.205103</td>\n",
       "      <td>1.661454</td>\n",
       "      <td>3.457836</td>\n",
       "      <td>2.098205</td>\n",
       "      <td>304.0</td>\n",
       "      <td>304</td>\n",
       "      <td>0</td>\n",
       "      <td>101</td>\n",
       "    </tr>\n",
       "    <tr>\n",
       "      <th>2</th>\n",
       "      <td>3</td>\n",
       "      <td>0.271383</td>\n",
       "      <td>0.0</td>\n",
       "      <td>0.126712</td>\n",
       "      <td>0.0</td>\n",
       "      <td>0.976787</td>\n",
       "      <td>0.043854</td>\n",
       "      <td>0.0</td>\n",
       "      <td>0.528058</td>\n",
       "      <td>0.124882</td>\n",
       "      <td>...</td>\n",
       "      <td>0.000000</td>\n",
       "      <td>3.815154</td>\n",
       "      <td>1.246298</td>\n",
       "      <td>2.504779</td>\n",
       "      <td>6.486201</td>\n",
       "      <td>3.454411</td>\n",
       "      <td>303.0</td>\n",
       "      <td>303</td>\n",
       "      <td>0</td>\n",
       "      <td>101</td>\n",
       "    </tr>\n",
       "    <tr>\n",
       "      <th>3</th>\n",
       "      <td>4</td>\n",
       "      <td>0.097084</td>\n",
       "      <td>0.0</td>\n",
       "      <td>0.037654</td>\n",
       "      <td>0.0</td>\n",
       "      <td>0.549639</td>\n",
       "      <td>0.001046</td>\n",
       "      <td>0.0</td>\n",
       "      <td>0.240636</td>\n",
       "      <td>0.017580</td>\n",
       "      <td>...</td>\n",
       "      <td>0.016924</td>\n",
       "      <td>3.105121</td>\n",
       "      <td>1.228030</td>\n",
       "      <td>2.112541</td>\n",
       "      <td>5.209030</td>\n",
       "      <td>2.868551</td>\n",
       "      <td>39.0</td>\n",
       "      <td>304</td>\n",
       "      <td>0</td>\n",
       "      <td>100</td>\n",
       "    </tr>\n",
       "    <tr>\n",
       "      <th>4</th>\n",
       "      <td>5</td>\n",
       "      <td>0.041986</td>\n",
       "      <td>0.0</td>\n",
       "      <td>0.008531</td>\n",
       "      <td>0.0</td>\n",
       "      <td>0.253195</td>\n",
       "      <td>0.001353</td>\n",
       "      <td>0.0</td>\n",
       "      <td>0.036694</td>\n",
       "      <td>0.002605</td>\n",
       "      <td>...</td>\n",
       "      <td>0.040597</td>\n",
       "      <td>2.683573</td>\n",
       "      <td>1.311833</td>\n",
       "      <td>1.853227</td>\n",
       "      <td>4.251881</td>\n",
       "      <td>2.500635</td>\n",
       "      <td>304.0</td>\n",
       "      <td>304</td>\n",
       "      <td>0</td>\n",
       "      <td>101</td>\n",
       "    </tr>\n",
       "  </tbody>\n",
       "</table>\n",
       "<p>5 rows × 4005 columns</p>\n",
       "</div>"
      ],
      "text/plain": [
       "   inspection_id       X_0  X_1       X_2  X_3       X_4       X_5  X_6  \\\n",
       "0              1  0.054892  0.0  0.015004  0.0  0.238797  0.000466  0.0   \n",
       "1              2  0.024470  0.0  0.003108  0.0  0.129467  0.000687  0.0   \n",
       "2              3  0.271383  0.0  0.126712  0.0  0.976787  0.043854  0.0   \n",
       "3              4  0.097084  0.0  0.037654  0.0  0.549639  0.001046  0.0   \n",
       "4              5  0.041986  0.0  0.008531  0.0  0.253195  0.001353  0.0   \n",
       "\n",
       "        X_7       X_8  ...    X_3994    X_3995    X_3996    X_3997    X_3998  \\\n",
       "0  0.055266  0.005605  ...  0.052267  2.742807  1.274291  1.905394  4.261047   \n",
       "1  0.034108  0.012225  ...  0.232065  2.272318  1.205103  1.661454  3.457836   \n",
       "2  0.528058  0.124882  ...  0.000000  3.815154  1.246298  2.504779  6.486201   \n",
       "3  0.240636  0.017580  ...  0.016924  3.105121  1.228030  2.112541  5.209030   \n",
       "4  0.036694  0.002605  ...  0.040597  2.683573  1.311833  1.853227  4.251881   \n",
       "\n",
       "     X_3999  maj_landcover_code_x  maj_landcover_code_y  status  \\\n",
       "0  2.500061                 304.0                   557       0   \n",
       "1  2.098205                 304.0                   304       0   \n",
       "2  3.454411                 303.0                   303       0   \n",
       "3  2.868551                  39.0                   304       0   \n",
       "4  2.500635                 304.0                   304       0   \n",
       "\n",
       "   structure_code  \n",
       "0             100  \n",
       "1             101  \n",
       "2             101  \n",
       "3             100  \n",
       "4             101  \n",
       "\n",
       "[5 rows x 4005 columns]"
      ]
     },
     "execution_count": 5,
     "metadata": {},
     "output_type": "execute_result"
    }
   ],
   "source": [
    "print(data.shape)\n",
    "data.head()"
   ]
  },
  {
   "cell_type": "markdown",
   "metadata": {},
   "source": [
    "## Downsample Majority Class Approach"
   ]
  },
  {
   "cell_type": "code",
   "execution_count": 8,
   "metadata": {},
   "outputs": [
    {
     "name": "stdout",
     "output_type": "stream",
     "text": [
      "Shapes:\n",
      "  X_train: (1337, 4004)\n",
      "  y_train: (1337,)\n",
      "  X_test:  (335, 4004)\n",
      "  y_test:  (335,)\n",
      "\n",
      "Train distribution after downsampling:\n",
      "status\n",
      "0    0.750187\n",
      "1    0.249813\n",
      "Name: proportion, dtype: float64\n"
     ]
    }
   ],
   "source": [
    "\n",
    "# Pull out majority/minority from data\n",
    "compliant = data[data.status == 0]\n",
    "non_compliant = data[data.status == 1]\n",
    "\n",
    "# Downsample majority to be 3x minority's size\n",
    "n_majority_desired = len(non_compliant) * 3\n",
    "compliant_down = compliant.sample(n=n_majority_desired, random_state=42)\n",
    "\n",
    "# Reassemble and shuffle\n",
    "data_downsampled_maj = (\n",
    "    pd.concat([non_compliant, compliant_down])\n",
    "    .sample(frac=1, random_state=42)\n",
    "    .reset_index(drop=True))\n",
    "\n",
    "# Split back into X_train and y_train, downsampled\n",
    "X = data_downsampled_maj.drop(\"status\", axis=1)\n",
    "y = data_downsampled_maj[\"status\"]\n",
    "\n",
    "X_train, X_test, y_train, y_test = train_test_split(\n",
    "    X, y, test_size=0.2, stratify=y, random_state=42)\n",
    "\n",
    "# Balance check\n",
    "print(\"Shapes:\")\n",
    "print(\"  X_train:\", X_train.shape)\n",
    "print(\"  y_train:\", y_train.shape)\n",
    "print(\"  X_test: \", X_test.shape)\n",
    "print(\"  y_test: \", y_test.shape)\n",
    "\n",
    "print(\"\\nTrain distribution after downsampling:\")\n",
    "print(y_train.value_counts(normalize=True))\n",
    "\n",
    "\n"
   ]
  },
  {
   "cell_type": "markdown",
   "metadata": {},
   "source": [
    "## Upsample Minority Class Approach"
   ]
  },
  {
   "cell_type": "code",
   "execution_count": 9,
   "metadata": {},
   "outputs": [
    {
     "name": "stdout",
     "output_type": "stream",
     "text": [
      "Shape of compliant: (67162, 4005)\n",
      "Shape of non-compliant: (418, 4005)\n",
      "N_minority desired: 67162\n",
      "Shape of non-compliant upsampled: (22387, 4005)\n",
      "Shape of upsampled train: (89549, 4005)\n",
      "Shape of upsampled X_train: (1337, 4004)\n",
      "Shape of upsampled y_train: 1337\n",
      "Shapes:\n",
      "  X_train: (71639, 4004)\n",
      "  y_train: (71639,)\n",
      "  X_test:  (17910, 4004)\n",
      "  y_test:  (17910,)\n",
      "\n",
      "Train distribution after up-sampling:\n",
      "status\n",
      "0    0.749997\n",
      "1    0.250003\n",
      "Name: proportion, dtype: float64\n"
     ]
    }
   ],
   "source": [
    "# Pull out majority/minority from data\n",
    "compliant = data[data.status == 0]\n",
    "non_compliant = data[data.status == 1]\n",
    "print(f\"Shape of compliant:\", compliant.shape)\n",
    "print(f\"Shape of non-compliant:\", non_compliant.shape)\n",
    "\n",
    "# Upsample minority to match majority’s size\n",
    "n_minority_desired = int(len(compliant) / 3)\n",
    "print(f\"N_minority desired:\", len(compliant))\n",
    "\n",
    "non_compliant_upsampled = non_compliant.sample(\n",
    "    n=n_minority_desired, replace=True, random_state=42)\n",
    "print(f\"Shape of non-compliant upsampled:\", non_compliant_upsampled.shape)\n",
    "\n",
    "# Reassemble and shuffle train set\n",
    "data_upsampled_min = (\n",
    "    pd.concat([compliant, non_compliant_upsampled])\n",
    "    .sample(frac=1, random_state=42)\n",
    "    .reset_index(drop=True))\n",
    "print(f\"Shape of upsampled train:\", data_upsampled_min.shape)\n",
    "\n",
    "# Split back into X_train y_train, upsampled\n",
    "X = data_upsampled_min.drop(\"status\", axis=1)\n",
    "y = data_upsampled_min[\"status\"]\n",
    "print(f\"Shape of upsampled X_train:\", X_train.shape)\n",
    "print(f\"Shape of upsampled y_train:\", len(y_train))\n",
    "\n",
    "X_train, X_test, y_train, y_test = train_test_split(\n",
    "    X, y, test_size=0.2, stratify=y, random_state=42)\n",
    "\n",
    "# Check majority/minority sizes\n",
    "print(\"Shapes:\")\n",
    "print(\"  X_train:\", X_train.shape)\n",
    "print(\"  y_train:\", y_train.shape)\n",
    "print(\"  X_test: \", X_test.shape)\n",
    "print(\"  y_test: \", y_test.shape)\n",
    "\n",
    "print(\"\\nTrain distribution after up-sampling:\")\n",
    "print(y_train.value_counts(normalize=True))\n"
   ]
  },
  {
   "cell_type": "code",
   "execution_count": 62,
   "metadata": {},
   "outputs": [],
   "source": [
    "# Make code chunk to do both upsampling and downsampling:\n",
    "# Downsample majority and then upsample minority, all in the same data"
   ]
  },
  {
   "cell_type": "markdown",
   "metadata": {},
   "source": [
    "## Random Forest Classifier Model"
   ]
  },
  {
   "cell_type": "code",
   "execution_count": 37,
   "metadata": {},
   "outputs": [],
   "source": [
    "# X_test = data.drop(\"status\", axis=1)\n",
    "# y_test = data[\"status\"]\n",
    "\n",
    "# X_train, X_test, y_train, y_test = train_test_split(\n",
    "#     X_test, y_test, test_size=0.3, stratify=y_test, random_state=42\n",
    "# )\n",
    "\n",
    "# print(X_test.shape)\n",
    "# print(y_test.shape)\n",
    "# print(X_train.shape)\n",
    "# print(len(y_train))\n"
   ]
  },
  {
   "cell_type": "code",
   "execution_count": 38,
   "metadata": {},
   "outputs": [
    {
     "name": "stdout",
     "output_type": "stream",
     "text": [
      "Length of y_pred: 26865\n",
      "Accuracy: 0.9997394379303927\n"
     ]
    }
   ],
   "source": [
    "rf = RandomForestClassifier()\n",
    "rf.fit(X_train, y_train)\n",
    "\n",
    "y_pred = rf.predict(X_test)\n",
    "\n",
    "accuracy = accuracy_score(y_test, y_pred)\n",
    "print(\"Length of y_pred:\", len(y_pred))\n",
    "print(\"Accuracy:\", accuracy)\n"
   ]
  },
  {
   "cell_type": "code",
   "execution_count": 39,
   "metadata": {},
   "outputs": [
    {
     "name": "stdout",
     "output_type": "stream",
     "text": [
      "Fitting 3 folds for each of 20 candidates, totalling 60 fits\n"
     ]
    }
   ],
   "source": [
    "param_dist = {\n",
    "    \"n_estimators\": randint(50, 500),\n",
    "    \"max_depth\": randint(1, 20),\n",
    "    \"class_weight\": [None, \"balanced\", \"balanced_subsample\"],\n",
    "}\n",
    "\n",
    "param_dist.update(\n",
    "    {\n",
    "        \"min_samples_leaf\": [1, 5, 10, 20],\n",
    "        \"max_features\": [\"sqrt\", \"log2\", 0.2, 0.5],\n",
    "    }\n",
    ")\n",
    "\n",
    "rf = RandomForestClassifier(\n",
    "    random_state = 42,\n",
    "    n_jobs = -1\n",
    ")\n",
    "\n",
    "rand_search = RandomizedSearchCV(\n",
    "    rf,\n",
    "    param_distributions = param_dist,\n",
    "    n_iter = 20,\n",
    "    cv = 3,\n",
    "    scoring = \"precision\",\n",
    "    refit = True,\n",
    "    n_jobs = 1,\n",
    "    verbose = 1,\n",
    ")\n",
    "\n",
    "rand_search.fit(X_train, y_train)\n",
    "\n",
    "best_rf = rand_search.best_estimator_\n",
    "\n",
    "y_scores = best_rf.predict_proba(X_test)[:, 1]\n"
   ]
  },
  {
   "cell_type": "code",
   "execution_count": 40,
   "metadata": {},
   "outputs": [],
   "source": [
    "## TESTING PRECISION\n",
    "# greatest precision achievable is 0.5, default\n",
    "\n",
    "\n",
    "# 6) Quick diagnostic of your score distribution\n",
    "# print(\"Probability range:\", y_scores.min(), \"to\", y_scores.max())\n",
    "# print(\"Positives at 0.5 cutoff:\", (y_scores >= 0.5).sum())\n",
    "\n",
    "# # 7) Try a few fixed thresholds\n",
    "# for thresh in [0.5, 0.6, 0.7, 0.8]:\n",
    "#     preds = (y_scores >= thresh).astype(int)\n",
    "#     print(f\"\\nThreshold {thresh:.1f} → Positives = {preds.sum()}\")\n",
    "#     print(\" Precision:\", precision_score(y_test, preds))\n",
    "#     print(\" Recall:   \", recall_score(y_test, preds))\n",
    "\n",
    "# # 8) Precision–Recall curve based threshold search\n",
    "# precisions, recalls, thresholds = precision_recall_curve(y_test, y_scores)\n",
    "# precisions = precisions[:-1]  # align lengths with thresholds\n",
    "\n",
    "# # What’s the best precision you can actually hit?\n",
    "# best_possible_precision = precisions.max()\n",
    "# print(\"\\nBest achievable precision:\", best_possible_precision)\n",
    "\n",
    "# # Now find the first threshold that reaches ≥0.6, if any\n",
    "# target = 0.6\n",
    "# valid = np.where(precisions >= target)[0]\n",
    "\n",
    "# if valid.size:\n",
    "#     best_idx = valid[0]\n",
    "#     best_thresh = thresholds[best_idx]\n",
    "#     print(f\"Threshold for ≥{target:.2f} precision:\", best_thresh)\n",
    "#     y_pred_opt = (y_scores >= best_thresh).astype(int)\n",
    "#     print(\" Precision:\", precision_score(y_test, y_pred_opt))\n",
    "#     print(\" Recall:   \", recall_score(y_test, y_pred_opt))\n",
    "# else:\n",
    "#     print(\n",
    "#         f\"No threshold yields ≥{target:.2f} precision. \"\n",
    "#         f\"Falling back to best achievable precision of \"\n",
    "#         f\"{best_possible_precision:.3f}.\"\n",
    "#     )\n",
    "#     # you could pick the threshold for that best precision:\n",
    "#     best_idx = np.argmax(precisions)\n",
    "#     best_thresh = thresholds[best_idx]\n",
    "#     print(\"  Using threshold:\", best_thresh)\n",
    "#     y_pred_opt = (y_scores >= best_thresh).astype(int)\n",
    "#     print(\"  Precision:\", precision_score(y_test, y_pred_opt))\n",
    "#     print(\"  Recall:   \", recall_score(y_test, y_pred_opt))"
   ]
  },
  {
   "cell_type": "code",
   "execution_count": 41,
   "metadata": {},
   "outputs": [
    {
     "name": "stdout",
     "output_type": "stream",
     "text": [
      "Accuracy: 0.9997022147775917\n",
      "Precision: 0.998810232004759\n",
      "Recall: 1.0\n"
     ]
    },
    {
     "data": {
      "image/png": "[encoded data removed]",
      "text/plain": [
       "<Figure size 640x480 with 2 Axes>"
      ]
     },
     "metadata": {},
     "output_type": "display_data"
    }
   ],
   "source": [
    "y_pred = best_rf.predict(X_test)\n",
    "\n",
    "accuracy = accuracy_score(y_test, y_pred)\n",
    "precision = precision_score(y_test, y_pred)\n",
    "recall = recall_score(y_test, y_pred)\n",
    "\n",
    "print(\"Accuracy:\", accuracy)\n",
    "print(\"Precision:\", precision)\n",
    "print(\"Recall:\", recall)\n",
    "\n",
    "# Create the confusion matrix\n",
    "cm = confusion_matrix(y_test, y_pred)\n",
    "\n",
    "ConfusionMatrixDisplay(confusion_matrix=cm).plot();\n"
   ]
  },
  {
   "cell_type": "code",
   "execution_count": 42,
   "metadata": {},
   "outputs": [
    {
     "data": {
      "text/plain": [
       "maj_landcover_code_y    0.002087\n",
       "inspection_id           0.001523\n",
       "X_948                   0.000787\n",
       "X_2449                  0.000740\n",
       "X_343                   0.000737\n",
       "dtype: float64"
      ]
     },
     "execution_count": 42,
     "metadata": {},
     "output_type": "execute_result"
    }
   ],
   "source": [
    "feature_importances = pd.Series(\n",
    "    best_rf.feature_importances_, index=X_train.columns\n",
    ").sort_values(ascending=False)\n",
    "\n",
    "feature_importances.head()\n"
   ]
  },
  {
   "cell_type": "code",
   "execution_count": 43,
   "metadata": {},
   "outputs": [
    {
     "data": {
      "image/png": "[encoded data removed]",
      "text/plain": [
       "<Figure size 1000x800 with 1 Axes>"
      ]
     },
     "metadata": {},
     "output_type": "display_data"
    },
    {
     "name": "stdout",
     "output_type": "stream",
     "text": [
      "ROC AUC Score: 0.9998\n"
     ]
    }
   ],
   "source": [
    "import matplotlib.pyplot as plt\n",
    "from sklearn.metrics import roc_curve, auc\n",
    "\n",
    "# Generate the ROC curve\n",
    "fpr, tpr, _ = roc_curve(y_test, y_scores)\n",
    "roc_auc = auc(fpr, tpr)\n",
    "\n",
    "# Create the plot\n",
    "plt.figure(figsize=(10, 8))\n",
    "\n",
    "# Plot ROC curve\n",
    "plt.plot(fpr, tpr, color=\"darkorange\", lw=2, label=f\"ROC curve (area = {roc_auc:.3f})\")\n",
    "\n",
    "# Plot baseline\n",
    "plt.plot([0, 1], [0, 1], color=\"navy\", lw=2, linestyle=\"--\", label=\"Random classifier\")\n",
    "\n",
    "# Style the plot\n",
    "plt.xlim([0.0, 1.0])\n",
    "plt.ylim([0.0, 1.05])\n",
    "plt.xlabel(\"False Positive Rate\", fontsize=12)\n",
    "plt.ylabel(\"True Positive Rate\", fontsize=12)\n",
    "plt.title(\"ROC Curve for Random Forest Classifier\", fontsize=14)\n",
    "plt.legend(loc=\"lower right\", fontsize=12)\n",
    "\n",
    "# Add grid\n",
    "plt.grid(alpha=0.3)\n",
    "\n",
    "# Display the plot\n",
    "plt.tight_layout()\n",
    "plt.show()\n",
    "\n",
    "# Print numeric results for reference\n",
    "print(f\"ROC AUC Score: {roc_auc:.4f}\")\n"
   ]
  },
  {
   "cell_type": "code",
   "execution_count": null,
   "metadata": {},
   "outputs": [],
   "source": []
  }
 ],
 "metadata": {
  "kernelspec": {
   "display_name": "prg",
   "language": "python",
   "name": "python3"
  },
  "language_info": {
   "codemirror_mode": {
    "name": "ipython",
    "version": 3
   },
   "file_extension": ".py",
   "mimetype": "text/x-python",
   "name": "python",
   "nbconvert_exporter": "python",
   "pygments_lexer": "ipython3",
   "version": "3.12.8"
  }
 },
 "nbformat": 4,
 "nbformat_minor": 2
}
